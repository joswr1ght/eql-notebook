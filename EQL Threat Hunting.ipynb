{
 "cells": [
  {
   "cell_type": "markdown",
   "metadata": {},
   "source": [
    "# Threat Hunting with EQL"
   ]
  },
  {
   "cell_type": "code",
   "execution_count": 7,
   "metadata": {},
   "outputs": [
    {
     "data": {
      "text/html": [
       "@import url('http://fonts.googleapis.com/css?family=Source+Code+Pro');\n",
       "@import url('http://fonts.googleapis.com/css?family=Lora');\n",
       ".CodeMirror pre {\n",
       "    font-family: 'Source Code Pro', Consolas, monocco, monospace;\n",
       "}\n",
       "\n",
       "div.cell {\n",
       "    //width: 950px;\n",
       "    margin-left: 0% !important;\n",
       "    margin-right: auto;\n",
       "}\n",
       "\n",
       "div.text_cell_render {\n",
       "    font-family: 'Lora';\n",
       "    line-height: 125%;\n",
       "    font-size: 100%;\n",
       "    text-align: justify;\n",
       "    text-justify: inter-word;\n",
       "}\n",
       "\n",
       "div.text_cell code {\n",
       "    background: transparent;\n",
       "    color: #000000;\n",
       "    font-weight: 400;\n",
       "    font-size: 11pt;\n",
       "    font-family: 'Source Code Pro', Consolas, monocco, monospace;\n",
       "}\n",
       "\n",
       "h1 {\n",
       "    font-family: 'Open sans', verdana, arial, sans-serif;\n",
       "}\n",
       "\n",
       "div.input_area {\n",
       "    background: #F6F6F9;\n",
       "    border: 1px solid #586e75;\n",
       "}\n",
       "\n",
       ".text_cell_render h1 {\n",
       "    font-weight: 200;\n",
       "    font-size: 36pt;\n",
       "    line-height: 100%;\n",
       "    color: #c76c0c;\n",
       "    margin-bottom: 0.5em;\n",
       "    margin-top: .5em;\n",
       "    display: block;\n",
       "    white-space: wrap;\n",
       "    text-align: left;\n",
       "}\n",
       "\n",
       "h2 {\n",
       "    font-family: 'Open sans', verdana, arial, sans-serif;\n",
       "    text-align: left;\n",
       "}\n",
       "\n",
       ".text_cell_render h2 {\n",
       "    font-weight: 400;\n",
       "    font-size: 24pt;\n",
       "    line-height: 100%;\n",
       "    color: #c76c0c;\n",
       "    margin-bottom: 0.5em;\n",
       "    margin-top: .5em;\n",
       "    display: block;\n",
       "    white-space: wrap;\n",
       "    text-align: left;\n",
       "    text-transform: uppercase;\n",
       "\n",
       "}\n",
       "\n",
       "h3 {\n",
       "    font-family: 'Open sans', verdana, arial, sans-serif;\n",
       "}\n",
       "\n",
       ".text_cell_render h3 {\n",
       "    font-weight: 200;\n",
       "    font-size: 20pt;\n",
       "    line-height: 100%;\n",
       "    color: #d77c0c;\n",
       "    margin-bottom: 0.5em;\n",
       "    margin-top: 1em;\n",
       "    display: block;\n",
       "    white-space: wrap;\n",
       "    text-align: left;\n",
       "    display: list-item;\n",
       "    list-style-type: disc;\n",
       "    list-style-position: inside;\n",
       "}\n",
       "\n",
       "h4 {\n",
       "    font-family: 'Open sans', verdana, arial, sans-serif;\n",
       "}\n",
       "\n",
       ".text_cell_render h4 {\n",
       "    font-weight: 100;\n",
       "    font-size: 16pt;\n",
       "    color: #d77c0c;\n",
       "    margin-bottom: 0.5em;\n",
       "    margin-top: 0.5em;\n",
       "    display: block;\n",
       "    white-space: nowrap;\n",
       "    text-indent: 30px;\n",
       "    display: list-item;\n",
       "    list-style-type: disc;\n",
       "    list-style-position: inside;\n",
       "}\n",
       "\n",
       "blockquote {\n",
       "    display: block;\n",
       "    background: #fcfcfc;\n",
       "    border-left: 5px solid #c76c0c;\n",
       "    font-family: 'Open sans', verdana, arial, sans-serif;\n",
       "    width: 680px;\n",
       "    padding: 10px 10px 10px 10px;\n",
       "    text-align: justify;\n",
       "    text-justify: inter-word;\n",
       "}\n",
       "\n",
       "blockquote p {\n",
       "    margin-bottom: 0;\n",
       "    line-height: 125%;\n",
       "    font-size: 100%;\n",
       "}\n"
      ],
      "text/plain": [
       "<IPython.core.display.HTML object>"
      ]
     },
     "execution_count": 7,
     "metadata": {},
     "output_type": "execute_result"
    }
   ],
   "source": [
    "# style the notebook\n",
    "from IPython.core.display import HTML\n",
    "import urllib.request\n",
    "# this link is to my Kalman filter book CSS file.\n",
    "response = urllib.request.urlopen('https://raw.githubusercontent.com/joswr1ght/eql-notebook/master/css/main.css')\n",
    "HTML(response.read().decode(\"utf-8\"))"
   ]
  },
  {
   "cell_type": "markdown",
   "metadata": {},
   "source": [
    "# ![EQL Logo](images/eql.png)"
   ]
  },
  {
   "cell_type": "markdown",
   "metadata": {},
   "source": [
    "## What is EQL?\n",
    "### Event Query Language by Russ Wolf and Carl Rutherford\n",
    "### Standardized query language (like SQL) to evaluate Windows events\n",
    "### Used for threat hunting, IR, red teaming, and more!\n",
    "\n",
    "> EQL reads from Sysmon and other log sources, normalizes the data, and provides a syntax to interrogate the data\n",
    "\n",
    "---\n",
    "\n",
    "EQL is the Event Query Language, a project by Russ Wolf and Carl Rutherford. EQL is a query language (similar but not syntactically matching SQL) that allows you to query Windows host data in JSON format to portably evaluate events of interest. EQL can be used for threat hunting with simple queries to detect events that match attack techniques such as those described in the [MITRE Cyber Analytics Repository (CAR)](https://car.mitre.org/)."
   ]
  },
  {
   "cell_type": "markdown",
   "metadata": {},
   "source": [
    "## Why Do We Need EQL?\n",
    "\n",
    "![EQL Query - whoami](images/eql-whoami.jpg)\n",
    "\n",
    "---\n",
    "\n",
    "Data used to detect threats or compromises on Windows systems is a mess. Many different data source types, different fields in varying sources, different data structures, different data formats. To use the different data sources effectively, you have to memorize many different data struture format and apply complex logic to cross-reference dara sources.\n",
    "\n",
    "EQL brings those data format together into a single source. Using EQL you can write queries that are _portable_, simple, and lightly abstracted so you can focus on finding bad guys instead of worrying about syntax.\n"
   ]
  },
  {
   "cell_type": "markdown",
   "metadata": {},
   "source": [
    "## EQL Basics\n",
    "\n",
    "### Schema\n",
    "\n",
    "EQL queries start with a _schema_ and add _conditional operators_ to retrieve data that is interesting to the analyst. Schemas are standard and consistent in EQL, currently one of:\n",
    "\n",
    "+ "
   ]
  },
  {
   "cell_type": "markdown",
   "metadata": {},
   "source": [
    "## Hunting Techniques"
   ]
  },
  {
   "cell_type": "markdown",
   "metadata": {},
   "source": [
    "### Long Command Lines"
   ]
  },
  {
   "cell_type": "code",
   "execution_count": 3,
   "metadata": {},
   "outputs": [
    {
     "name": "stdout",
     "output_type": "stream",
     "text": [
      "\u001b[1;39m{\r\n",
      "  \u001b[0m\u001b[34;1m\"process_name\"\u001b[0m\u001b[1;39m: \u001b[0m\u001b[0;32m\"slui.exe\"\u001b[0m\u001b[1;39m,\r\n",
      "  \u001b[0m\u001b[34;1m\"parent_process_name\"\u001b[0m\u001b[1;39m: \u001b[0m\u001b[0;32m\"SppExtComObj.Exe\"\u001b[0m\u001b[1;39m,\r\n",
      "  \u001b[0m\u001b[34;1m\"command_line\"\u001b[0m\u001b[1;39m: \u001b[0m\u001b[0;32m\"\\\"C:\\\\WINDOWS\\\\System32\\\\SLUI.exe\\\" RuleId=3482d82e-ca2c-4e1f-8864-da0267b484b2;Action=AutoActivate;AppId=55c92734-d682-4d71-983e-d6ec3f16059f;SkuId=2ffd8952-423e-4903-b993-72a1aa44cf82;NotificationInterval=1440;Trigger=TimerEvent\"\u001b[0m\u001b[1;39m\r\n",
      "\u001b[1;39m}\u001b[0m\r\n",
      "\u001b[1;39m{\r\n",
      "  \u001b[0m\u001b[34;1m\"process_name\"\u001b[0m\u001b[1;39m: \u001b[0m\u001b[0;32m\"software_reporter_tool.exe\"\u001b[0m\u001b[1;39m,\r\n",
      "  \u001b[0m\u001b[34;1m\"parent_process_name\"\u001b[0m\u001b[1;39m: \u001b[0m\u001b[0;32m\"chrome.exe\"\u001b[0m\u001b[1;39m,\r\n",
      "  \u001b[0m\u001b[34;1m\"command_line\"\u001b[0m\u001b[1;39m: \u001b[0m\u001b[0;32m\"\\\"C:\\\\Users\\\\Sec504\\\\AppData\\\\Local\\\\Google\\\\Chrome\\\\User Data\\\\SwReporter\\\\31.163.203\\\\software_reporter_tool.exe\\\" --session-id=+zGJZuAkD4oM6iUjX9Nkb6cQJ0tVJEOwKezvmUiA --registry-suffix=URZA --srt-field-trial-group-name=NewCleanerUIExperiment\"\u001b[0m\u001b[1;39m\r\n",
      "\u001b[1;39m}\u001b[0m\r\n",
      "\u001b[1;39m{\r\n",
      "  \u001b[0m\u001b[34;1m\"process_name\"\u001b[0m\u001b[1;39m: \u001b[0m\u001b[0;32m\"software_reporter_tool.exe\"\u001b[0m\u001b[1;39m,\r\n",
      "  \u001b[0m\u001b[34;1m\"parent_process_name\"\u001b[0m\u001b[1;39m: \u001b[0m\u001b[0;32m\"software_reporter_tool.exe\"\u001b[0m\u001b[1;39m,\r",
      "\r\n",
      "  \u001b[0m\u001b[34;1m\"command_line\"\u001b[0m\u001b[1;39m: \u001b[0m\u001b[0;32m\"\\\"c:\\\\users\\\\sec504\\\\appdata\\\\local\\\\google\\\\chrome\\\\user data\\\\swreporter\\\\31.163.203\\\\software_reporter_tool.exe\\\" --crash-handler \\\"--database=c:\\\\users\\\\sec504\\\\appdata\\\\local\\\\Google\\\\Software Reporter Tool\\\" --url=https://clients2.google.com/cr/report --annotation=plat=Win32 --annotation=prod=ChromeFoil --annotation=ver=31.163.203 --initial-client-data=0x230,0x228,0x234,0x22c,0x238,0x7ff69b79aa28,0x7ff69b79aa38,0x7ff69b79aa48\"\u001b[0m\u001b[1;39m\r\n",
      "\u001b[1;39m}\u001b[0m\r\n",
      "\u001b[1;39m{\r\n",
      "  \u001b[0m\u001b[34;1m\"process_name\"\u001b[0m\u001b[1;39m: \u001b[0m\u001b[0;32m\"software_reporter_tool.exe\"\u001b[0m\u001b[1;39m,\r\n",
      "  \u001b[0m\u001b[34;1m\"parent_process_name\"\u001b[0m\u001b[1;39m: \u001b[0m\u001b[0;32m\"chrome.exe\"\u001b[0m\u001b[1;39m,\r\n",
      "  \u001b[0m\u001b[34;1m\"command_line\"\u001b[0m\u001b[1;39m: \u001b[0m\u001b[0;32m\"\\\"C:\\\\Users\\\\Sec504\\\\AppData\\\\Local\\\\Google\\\\Chrome\\\\User Data\\\\SwReporter\\\\31.163.203\\\\software_reporter_tool.exe\\\" --engine=2 --session-id=+zGJZuAkD4oM6iUjX9Nkb6cQJ0tVJEOwKezvmUiA --registry-suffix=ESET --srt-field-trial-group-name=NewCleanerUIExperiment\"\u001b[0m\u001b[1;39m\r\n",
      "\u001b[1;39m}\u001b[0m\r\n",
      "\u001b[1;39m{\r\n",
      "  \u001b[0m\u001b[34;1m\"process_name\"\u001b[0m\u001b[1;39m: \u001b[0m\u001b[0;32m\"software_reporter_tool.exe\"\u001b[0m\u001b[1;39m,\r\n",
      "  \u001b[0m\u001b[34;1m\"parent_process_name\"\u001b[0m\u001b[1;39m: \u001b[0m\u001b[0;32m\"software_reporter_tool.exe\"\u001b[0m\u001b[1;39m,\r\n",
      "  \u001b[0m\u001b[34;1m\"command_line\"\u001b[0m\u001b[1;39m: \u001b[0m\u001b[0;32m\"\\\"c:\\\\users\\\\sec504\\\\appdata\\\\local\\\\google\\\\chrome\\\\user data\\\\swreporter\\\\31.163.203\\\\software_reporter_tool.exe\\\" --crash-handler \\\"--database=c:\\\\users\\\\sec504\\\\appdata\\\\local\\\\Google\\\\Software Reporter Tool\\\" --url=https://clients2.google.com/cr/report --annotation=plat=Win32 --annotation=prod=ChromeFoil --annotation=ver=31.163.203 --initial-client-data=0x234,0x22c,0x238,0x230,0x23c,0x7ff69b79aa28,0x7ff69b79aa38,0x7ff69b79aa48\"\u001b[0m\u001b[1;39m\r\n",
      "\u001b[1;39m}\u001b[0m\r\n",
      "\u001b[1;39m{\r\n",
      "  \u001b[0m\u001b[34;1m\"process_name\"\u001b[0m\u001b[1;39m: \u001b[0m\u001b[0;32m\"software_reporter_tool.exe\"\u001b[0m\u001b[1;39m,\r\n",
      "  \u001b[0m\u001b[34;1m\"parent_process_name\"\u001b[0m\u001b[1;39m: \u001b[0m\u001b[0;32m\"software_reporter_tool.exe\"\u001b[0m\u001b[1;39m,\r\n",
      "  \u001b[0m\u001b[34;1m\"command_line\"\u001b[0m\u001b[1;39m: \u001b[0m\u001b[0;32m\"\\\"c:\\\\users\\\\sec504\\\\appdata\\\\local\\\\google\\\\chrome\\\\user data\\\\swreporter\\\\31.163.203\\\\software_reporter_tool.exe\\\" --use-crash-handler-with-id=\\\"\\\\\\\\.\\\\pipe\\\\crashpad_388_CDLBDNLBTNZSNJYU\\\" --sandboxed-process-id=2 --sandbox-mojo-pipe-token=4B859EC0B060DA6DAC51A3B0F5560A9A --mojo-platform-channel-handle=580 --engine=2\"\u001b[0m\u001b[1;39m\r\n",
      "\u001b[1;39m}\u001b[0m\r\n"
     ]
    }
   ],
   "source": [
    "!eql query -f data/sysmon-converted.json 'process where length(command_line) > 200 \\\n",
    "        and not process_name in (\"chrome.exe\", \"ngen.exe\")' \\\n",
    "        | jq \"{process_name,parent_process_name,command_line}\""
   ]
  },
  {
   "cell_type": "code",
   "execution_count": null,
   "metadata": {},
   "outputs": [],
   "source": []
  }
 ],
 "metadata": {
  "kernelspec": {
   "display_name": "Python 3",
   "language": "python",
   "name": "python3"
  },
  "language_info": {
   "codemirror_mode": {
    "name": "ipython",
    "version": 3
   },
   "file_extension": ".py",
   "mimetype": "text/x-python",
   "name": "python",
   "nbconvert_exporter": "python",
   "pygments_lexer": "ipython3",
   "version": "3.7.3"
  }
 },
 "nbformat": 4,
 "nbformat_minor": 2
}
